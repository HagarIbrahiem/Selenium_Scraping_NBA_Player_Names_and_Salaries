{
 "cells": [
  {
   "cell_type": "code",
   "execution_count": 2,
   "metadata": {},
   "outputs": [
    {
     "name": "stdout",
     "output_type": "stream",
     "text": [
      "Requirement already satisfied: selenium in c:\\users\\nmi pc\\anaconda3\\lib\\site-packages (3.141.0)\n",
      "Requirement already satisfied: urllib3 in c:\\users\\nmi pc\\anaconda3\\lib\\site-packages (from selenium) (1.25.11)\n"
     ]
    }
   ],
   "source": [
    "!pip install selenium"
   ]
  },
  {
   "cell_type": "code",
   "execution_count": 4,
   "metadata": {},
   "outputs": [],
   "source": [
    "from selenium import webdriver\n",
    "from selenium.webdriver.common.keys import Keys\n",
    "import pandas as pd\n",
    "\n",
    "driver = webdriver.Firefox()\n",
    "driver.get('https://hoopshype.com/salaries/players/')  "
   ]
  },
  {
   "cell_type": "code",
   "execution_count": 5,
   "metadata": {},
   "outputs": [
    {
     "name": "stdout",
     "output_type": "stream",
     "text": [
      "['PLAYER', 'Stephen Curry', 'James Harden', 'John Wall', 'Russell Westbrook', 'LeBron James', 'Kevin Durant', 'Paul George', 'Kawhi Leonard', 'Giannis Antetokounmpo', 'Damian Lillard', 'Klay Thompson', 'Jimmy Butler', 'Tobias Harris', 'Khris Middleton', 'Anthony Davis', 'Kyrie Irving', 'Kemba Walker', 'Rudy Gobert', 'Bradley Beal', 'Ben Simmons', 'Pascal Siakam', 'Jrue Holiday', 'Blake Griffin', 'Kristaps Porzingis', 'Karl-Anthony Towns', 'Devin Booker', 'Nikola Jokic', 'Andrew Wiggins', 'Joel Embiid', 'Kevin Love', 'CJ McCollum', 'Chris Paul', \"D'Angelo Russell\", 'Gordon Hayward', 'Jamal Murray', 'Brandon Ingram', 'Jayson Tatum', 'Bam Adebayo', \"De'Aaron Fox\", 'Donovan Mitchell', 'Al Horford', 'Kyle Lowry', 'Jaylen Brown', 'DeMar DeRozan', 'Draymond Green', 'Nikola Vucevic', 'Buddy Hield', 'John Collins', 'Julius Randle', 'Malcolm Brogdon', 'Tim Hardaway Jr', 'Mike Conley', 'Gary Harris', 'Danilo Gallinari', 'Harrison Barnes', 'Jerami Grant', 'Jarrett Allen', 'Fred VanVleet', 'Zach LaVine', 'Goran Dragic', 'Bojan Bogdanovic', 'Lonzo Ball', 'Clint Capela', 'Domantas Sabonis', 'Eric Gordon', 'Eric Bledsoe', 'Bogdan Bogdanovic', 'Myles Turner', 'Terry Rozier', 'Ricky Rubio', 'Caris LeVert', 'Jonathan Isaac', 'Joe Harris', 'Evan Fournier', 'Spencer Dinwiddie', 'Steven Adams', 'Markelle Fultz', 'Aaron Gordon', 'OG Anunoby', 'Gary Trent Jr', 'Davis Bertans', 'Lauri Markkanen', 'Derrick White', 'Duncan Robinson', 'Marcus Morris', 'Will Barton', 'Norman Powell', 'Dejounte Murray', 'Malik Beasley', 'Marcus Smart', 'Patrick Beverley', 'Thaddeus Young', 'Jonas Valanciunas', 'Doug McDermott', 'Christian Wood', 'Derrick Rose', 'Brook Lopez', 'Kentavious Caldwell-Pope', 'Joe Ingles', 'Kyle Kuzma', 'Taurean Prince', 'Robert Covington', 'TJ Warren', 'Luke Kennard', 'Deandre Ayton', 'Terrence Ross', 'Jordan Clarkson', 'Dillon Brooks', 'Kelly Olynyk', 'Nicolas Batum', 'Josh Hart', 'Kelly Oubre', 'Jusuf Nurkic', 'Josh Richardson', 'Marvin Bagley', 'Dwight Powell', 'Devonte Graham', 'Zion Williamson', 'Larry Nance Jr', 'DeAndre Jordan', 'Jeremy Lamb', 'Reggie Jackson', 'Richaun Holmes', 'Anthony Edwards', 'Al-Farouq Aminu', 'Luka Doncic', 'Cade Cunningham', 'Danny Green', 'Tomas Satoransky', 'Kyle Anderson', 'Derrick Favors', 'Jae Crowder', 'Derrick Jones', 'Serge Ibaka', 'Tristan Thompson', 'Montrezl Harrell', 'Ja Morant', 'Reggie Bullock', 'Alec Burks', 'Talen Horton-Tucker', 'Mason Plumlee', 'Jaren Jackson Jr', 'James Wiseman', 'Jalen Green', 'Maxi Kleber', \"De'Anthony Melton\", 'Nerlens Noel', \"Royce O'Neale\", 'Jakob Poeltl', 'Thomas Bryant', 'RJ Barrett', 'Alex Caruso', 'Delon Wright', 'Dario Saric', 'Monte Morris', 'Tyus Jones', 'Trae Young', 'Daniel Theis', 'LaMelo Ball', 'Seth Curry', 'JaMychal Green', 'Cedi Osman', 'Evan Mobley', \"De'Andre Hunter\", 'Mo Bamba', 'Ivica Zubac', 'TJ McConnell', 'Rajon Rondo', 'Patrick Williams', 'Cory Joseph', 'Scottie Barnes', 'Darius Garland', 'Chris Boucher', 'PJ Tucker', 'Zach Collins', 'DJ Augustin', 'Wendell Carter', 'Juan Hernangomez', 'Isaac Okoro', 'Jalen Suggs', 'Cameron Payne', 'Joakim Noah', 'Jarrett Culver', 'Khem Birch', 'Collin Sexton', 'Onyeka Okongwu', 'Justin Holiday', 'Josh Giddey', 'Patrick Mills', 'Rudy Gay', 'Dennis Schroeder', 'Kevin Knox', 'Coby White', 'Timofey Mozgov', 'Killian Hayes', 'Mikal Bridges', 'Shai Gilgeous-Alexander', 'Jonathan Kuminga', 'Miles Bridges', 'Jaxson Hayes', 'Pat Connaughton', 'George Hill', 'Michael Porter', 'Dewayne Dedmon', 'Ryan Anderson', 'Hamidou Diallo', 'Kevon Looney', 'Troy Brown', 'Obi Toppin', 'Franz Wagner', 'Josh Jackson', 'Kris Dunn', 'Kendrick Nunn', 'Louis Williams', 'Luol Deng', 'Robin Lopez', 'JaVale McGee', 'Rui Hachimura', 'Garrett Temple', 'Taj Gibson', 'Torrey Craig', 'Bruce Brown', 'Deni Avdija', 'Donte DiVincenzo', 'Cam Reddish', 'David Nwaba', 'Furkan Korkmaz', 'Davion Mitchell', 'Ishmael Smith', 'Jeff Green', 'Bryn Forbes', 'Chandler Hutchison', 'Jalen Smith', 'Lonnie Walker', 'Cameron Johnson', 'Ziaire Williams', 'Bobby Portis', 'Moe Harkless', 'Kevin Huerter', 'Devin Vassell', 'PJ Washington', 'James Bouknight', 'Willie Cauley-Stein', 'Josh Okogie', 'Grayson Allen', 'Jarred Vanderbilt', 'Tyrese Haliburton', 'Tyler Herro', 'Terence Davis', 'Gorgui Dieng', 'Dorian Finney-Smith', 'Aaron Holiday', 'Josh Primo', 'Jake Layman', 'Anfernee Simons', 'Justise Winslow', 'Danuel House', 'Kira Lewis', 'Romeo Langford', 'Landry Shamet', 'Chris Duarte', 'Alex Len', 'Sekou Doumbouya', 'Gabriel Deck', 'Robert Williams', 'Jevon Carter', 'Aaron Nesmith', 'Moses Moody', 'Boban Marjanovic', 'Mike Muscala', 'Cole Anthony', 'Luka Samanic', 'Corey Kispert', 'Georges Niang', 'Michael Carter-Williams', 'Isaiah Stewart', 'Chuma Okeke', 'Nickeil Alexander-Walker', 'Alperen Sengun', 'Facundo Campazzo', 'Jon Leuer', 'Trey Burke', 'Aleksej Pokusevski', 'Goga Bitadze', 'Trey Murphy', 'Sterling Brown', 'Frank Jackson', 'Josh Green', 'Tre Mann', 'Andrew Nicholson', 'Matisse Thybulle', 'Saddiq Bey', 'Kai Jones', 'Brandon Clarke', 'Precious Achiuwa', 'Marc Gasol', 'Jalen Johnson', 'Enes Kanter', 'LaMarcus Aldridge', 'James Johnson', 'Paul Millsap', 'Ed Davis', 'Andre Iguodala', 'Carmelo Anthony', 'Trevor Ariza', 'Avery Bradley', 'Wayne Ellington', 'Dwight Howard', 'Udonis Haslem', 'Markieff Morris', \"E'Twaun Moore\", 'Grant Williams', 'Tyrese Maxey', 'Keon Johnson', 'Darius Bazley', 'Trey Lyles', 'Zeke Nnaji', 'Isaiah Jackson', 'Ty Jerome', 'Austin Rivers', 'Kent Bazemore', 'Andre Drummond', 'Hassan Whiteside', 'Solomon Hill', 'Otto Porter', 'Victor Oladipo', 'Ben McLemore', 'Tony Snell', 'Cody Zeller', 'Usman Garuba', 'Leandro Bolmaro', 'Jabari Parker', 'Willy Hernangomez', 'Edmond Sumner', 'Nassir Little', 'RJ Hampton', 'Josh Christopher', 'Monta Ellis', 'Rodney Hood', 'Elfrid Payton', 'Dylan Windler', 'Immanuel Quickley', 'John Konchar', 'Quentin Grimes', 'Jordan Poole', 'Bol Bol', 'Keldon Johnson', 'Payton Pritchard', 'Jahlil Okafor', 'Bones Hyland', 'Nemanja Bjelica', 'Frank Kaminsky', 'Raul Neto', 'Udoka Azubuike', 'Jaden McDaniels', 'Malachi Flynn', 'Cam Thomas', 'Desmond Bane', 'Jaden Springer', \"Day'Ron Sharpe\", 'Jordan McLaughlin', 'Jeremiah Robinson-Earl', 'Kenrich Williams', 'Theo Maledon', 'Abdel Nader', 'Santiago Aldama', 'Damian Jones', 'Denzel Valentine', 'Timothe Luwawu', 'Rodney McGruder', 'PJ Dozier', 'Damion Lee', 'Larry Sanders', 'Shake Milton', 'Wesley Iwundu', 'Jalen Brunson', 'Mitchell Robinson', 'Tony Bradley', 'Frank Ntilikina', 'Malik Monk', 'Semi Ojeleye', 'Dennis Smith', 'Didi Louzada', 'Kevin Porter', 'Jalen McDaniels', 'Terance Mann', 'Jaylen Nowell', 'Naz Reid', 'Isaiah Roby', 'Daniel Gafford', 'Bruno Fernando', 'Nicolas Claxton', 'Cody Martin', 'Dean Wade', 'Vlatko Cancar', 'Carsen Edwards', 'KZ Okpala', 'Luguentz Dort', 'Miye Oni', 'Eric Paschall', 'Drew Eubanks', 'Chimezie Metu', 'Yuta Watanabe', 'Alize Johnson', 'Thanasis Antetokounmpo', 'Keita Bates-Diop', 'Sviatoslav Mykhailiuk', 'Brad Wanamaker', 'Isaiah Hartenstein', 'Moritz Wagner', 'Isaac Bonga', 'Moses Brown', 'Juan Toscano-Anderson', 'Oshae Brissett', 'Kelan Martin', 'Herb Jones', 'Javonte Green', 'Max Strus', 'Gabe Vincent', 'Kevin Pangos', 'DeAndre Bembry', 'Matt Thomas', 'Gary Payton II', 'Wayne Selden', 'Vernon Carey', 'Nick Richards', 'Lamar Stevens', 'Tyrell Terry', 'KJ Martin', 'Xavier Tillman', 'Naji Marshall', 'Isaiah Joe', 'Paul Reed', 'Robert Woodard', 'Tre Jones', 'Deividas Sirvydis', \"Jae'Sean Tate\", 'Sam Merrill', 'Daniel Oturu', 'Jordan Nwora', 'CJ Elleby', \"Jahmi'us Ramsey\", 'Elijah Hughes', 'Anthony Gill', 'Isaiah Todd', 'Saben Lee', 'Armoni Brooks', 'Omer Yurtseven', 'JR Smith', 'JT Thor', 'DeMarre Carroll', 'Zhaire Smith', 'Jason Preston', 'Isaiah Livers', 'Guerschon Yabusele', 'Kyle Singler', 'BJ Boston', 'Austin Reaves', 'Georgios Kalaitzakis', 'Miles McBride', 'Vit Krejci', 'Charles Bassey', 'Greg Brown', 'Jock Landale', 'Jared Butler', 'Ayo Dosunmu', 'Marko Simonovic', 'Luka Garza', 'Dalano Banton', 'Patrick Patterson', 'Ishmail Wainright', 'Shaun Livingston', 'Sharife Cooper', 'Skylar Mays', 'Sam Hauser', 'Brodric Thomas', 'David Duke', 'Kessler Edwards', 'Arnoldas Kulboka', 'Scottie Lewis', 'Tyler Cook', 'Devon Dotson', 'Tacko Fall', 'RJ Nembhard', 'JaQuori McLaughlin', 'Eugene Omoruyi', 'Petr Cornelie', 'Markus Howard', 'Jamorko Pickett', 'Sean Chris Smith', 'Chris Chiozza', 'Jeff Dowtin', 'Garrison Mathews', 'Daishen Nix', 'DeJon Jarreau', 'Duane Washington Jr', 'Amir Coffey', 'Jay Scrubb', 'Jay Huff', 'Yves Pons', 'Killian Tillie', 'Marcus Garrett', 'Caleb Martin', 'Sandro Mamukelashvili', 'Justin Robinson', 'Nathan Knight', 'McKinley Wright', 'Jose Alvarado', 'Daulton Hommes', 'Jericho Sims', 'Paul Watson', 'Aaron Wiggins', 'Ignas Brazdeikis', 'Aaron Henry', 'Grant Riller', 'Keljin Blevins', 'Trendon Watford', 'Louis King', 'Neemias Queta', 'Devontae Cacok', 'Joe Wieskamp', 'Justin Champagnie', 'David Johnson', 'Malik Fitts', 'Trent Forrest', 'Joel Ayayi', 'Cassius Winston', 'Mychal Mulder', 'Chaundee Brown', 'Sam Dekker', 'Jontay Porter', 'Admiral Schofield', 'Troy Williams', 'Mamadi Diakite', 'Demetrius Jackson', 'Freddie Gillespie']\n"
     ]
    }
   ],
   "source": [
    "players = driver.find_elements_by_xpath('//td[@class=\"name\"]')\n",
    "players_list = []\n",
    "for p in range(len(players)):\n",
    "    players_list.append(players[p].text)\n",
    "print(players_list)  "
   ]
  },
  {
   "cell_type": "code",
   "execution_count": 6,
   "metadata": {},
   "outputs": [
    {
     "name": "stdout",
     "output_type": "stream",
     "text": [
      "['2021/22', '$45,780,966', '$44,310,840', '$44,310,840', '$44,211,146', '$41,180,544', '$40,918,900', '$39,344,970', '$39,344,900', '$39,344,900', '$39,344,900', '$37,980,720', '$36,016,200', '$35,995,950', '$35,500,000', '$35,361,360', '$35,053,700', '$34,967,442', '$34,844,000', '$33,724,200', '$33,003,936', '$33,003,936', '$32,431,333', '$32,405,817', '$31,650,600', '$31,650,600', '$31,650,600', '$31,579,390', '$31,579,390', '$31,579,390', '$31,258,256', '$30,864,198', '$30,800,000', '$30,013,500', '$29,925,000', '$29,467,800', '$29,467,800', '$28,103,500', '$28,103,500', '$28,103,500', '$28,103,500', '$27,000,000', '$26,984,128', '$26,758,928', '$26,000,000', '$24,026,712', '$24,000,000', '$23,073,234', '$23,000,000', '$21,780,000', '$21,700,000', '$21,306,816', '$21,000,000', '$20,932,143', '$20,475,000', '$20,284,091', '$20,002,500', '$20,000,000', '$19,675,926', '$19,500,000', '$19,440,000', '$18,700,000', '$18,604,651', '$18,603,448', '$18,500,000', '$18,218,818', '$18,125,000', '$18,000,000', '$18,000,000', '$17,905,263', '$17,800,000', '$17,500,000', '$17,400,000', '$17,357,143', '$17,142,857', '$17,142,857', '$17,073,171', '$16,500,000', '$16,409,091', '$16,071,429', '$16,000,000', '$16,000,000', '$15,690,909', '$15,678,571', '$15,650,000', '$15,627,907', '$15,625,000', '$15,517,242', '$15,428,880', '$14,491,964', '$14,339,285', '$14,320,987', '$14,190,000', '$14,000,000', '$13,750,000', '$13,666,667', '$13,445,120', '$13,302,325', '$13,038,862', '$13,036,364', '$13,000,000', '$13,000,000', '$12,975,471', '$12,940,000', '$12,727,273', '$12,632,950', '$12,500,000', '$12,420,000', '$12,200,000', '$12,195,122', '$12,026,998', '$12,000,000', '$12,000,000', '$12,000,000', '$11,615,328', '$11,312,114', '$11,080,125', '$11,000,000', '$10,733,400', '$10,690,909', '$10,517,224', '$10,500,000', '$10,384,500', '$10,384,500', '$10,245,480', '$10,183,800', '$10,174,391', '$10,050,120', '$10,000,000', '$10,000,000', '$9,937,150', '$9,720,900', '$9,720,900', '$9,720,900', '$9,720,900', '$9,720,900', '$9,720,900', '$9,603,360', '$9,536,000', '$9,536,000', '$9,500,000', '$9,248,333', '$9,180,560', '$9,166,800', '$8,992,080', '$8,825,000', '$8,805,976', '$8,800,000', '$8,800,000', '$8,750,000', '$8,666,667', '$8,623,920', '$8,600,000', '$8,526,316', '$8,510,000', '$8,449,074', '$8,376,286', '$8,326,471', '$8,280,351', '$8,231,760', '$8,207,518', '$8,200,000', '$8,133,334', '$8,075,160', '$7,775,400', '$7,568,743', '$7,518,518', '$7,500,000', '$7,500,000', '$7,422,000', '$7,310,000', '$7,280,400', '$7,040,880', '$7,020,000', '$7,000,000', '$7,000,000', '$7,000,000', '$6,920,027', '$6,907,815', '$6,720,720', '$6,592,920', '$6,500,000', '$6,431,666', '$6,395,160', '$6,350,000', '$6,349,671', '$6,104,280', '$6,006,420', '$5,988,000', '$5,890,000', '$5,890,000', '$5,890,000', '$5,845,978', '$5,837,760', '$5,573,333', '$5,572,680', '$5,557,725', '$5,495,532', '$5,466,360', '$5,421,493', '$5,348,280', '$5,333,334', '$5,275,491', '$5,258,735', '$5,256,308', '$5,214,583', '$5,200,000', '$5,178,572', '$5,170,564', '$5,105,160', '$5,007,840', '$5,005,350', '$5,005,350', '$5,000,000', '$5,000,000', '$5,000,000', '$5,000,000', '$5,000,000', '$4,916,160', '$4,910,000', '$4,910,000', '$4,878,049', '$4,736,102', '$4,692,840', '$4,675,830', '$4,670,160', '$4,650,000', '$4,629,630', '$4,603,200', '$4,500,000', '$4,500,000', '$4,500,000', '$4,482,088', '$4,458,000', '$4,453,617', '$4,437,000', '$4,373,040', '$4,347,600', '$4,347,600', '$4,253,357', '$4,235,160', '$4,215,120', '$4,154,400', '$4,100,000', '$4,087,904', '$4,054,695', '$4,050,000', '$4,023,600', '$4,004,280', '$4,000,000', '$4,000,000', '$4,000,000', '$3,980,551', '$3,946,800', '$3,940,184', '$3,938,818', '$3,902,439', '$3,894,000', '$3,822,240', '$3,804,360', '$3,768,342', '$3,749,400', '$3,732,000', '$3,692,897', '$3,676,852', '$3,661,976', '$3,650,000', '$3,631,200', '$3,562,200', '$3,500,000', '$3,500,000', '$3,449,400', '$3,421,709', '$3,383,640', '$3,300,000', '$3,300,000', '$3,277,080', '$3,277,080', '$3,261,480', '$3,214,680', '$3,200,000', '$3,169,348', '$3,150,000', '$3,113,160', '$3,098,400', '$3,053,760', '$3,000,000', '$3,000,000', '$2,957,520', '$2,901,240', '$2,844,429', '$2,840,160', '$2,824,320', '$2,770,560', '$2,726,880', '$2,711,280', '$2,692,991', '$2,659,680', '$2,641,691', '$2,641,691', '$2,641,691', '$2,641,691', '$2,641,691', '$2,641,691', '$2,641,691', '$2,641,691', '$2,641,691', '$2,641,691', '$2,641,691', '$2,641,691', '$2,641,691', '$2,641,691', '$2,617,800', '$2,602,920', '$2,553,240', '$2,513,040', '$2,500,000', '$2,498,760', '$2,451,240', '$2,412,840', '$2,401,537', '$2,401,537', '$2,401,537', '$2,401,537', '$2,389,641', '$2,389,641', '$2,389,641', '$2,389,641', '$2,389,641', '$2,389,641', '$2,353,320', '$2,353,320', '$2,339,544', '$2,327,220', '$2,320,000', '$2,316,240', '$2,303,040', '$2,259,240', '$2,245,400', '$2,239,544', '$2,239,544', '$2,239,200', '$2,210,640', '$2,200,000', '$2,168,640', '$2,161,440', '$2,161,152', '$2,145,720', '$2,137,440', '$2,130,023', '$2,096,880', '$2,089,448', '$2,089,448', '$2,089,448', '$2,075,880', '$2,063,280', '$2,048,040', '$2,036,280', '$2,033,160', '$2,023,680', '$2,009,160', '$2,000,000', '$2,000,000', '$2,000,000', '$2,000,000', '$2,000,000', '$1,994,520', '$1,977,011', '$1,939,350', '$1,939,350', '$1,939,350', '$1,910,860', '$1,910,860', '$1,865,546', '$1,846,738', '$1,824,003', '$1,802,057', '$1,802,057', '$1,789,256', '$1,789,256', '$1,789,256', '$1,789,256', '$1,789,256', '$1,786,878', '$1,782,621', '$1,782,621', '$1,782,621', '$1,782,621', '$1,782,621', '$1,782,621', '$1,782,621', '$1,782,621', '$1,782,621', '$1,782,621', '$1,782,621', '$1,782,621', '$1,782,621', '$1,782,621', '$1,782,621', '$1,782,621', '$1,782,621', '$1,762,796', '$1,762,796', '$1,762,796', '$1,729,217', '$1,729,217', '$1,729,217', '$1,729,217', '$1,729,217', '$1,729,217', '$1,729,217', '$1,729,217', '$1,701,593', '$1,701,593', '$1,701,593', '$1,701,593', '$1,700,000', '$1,669,178', '$1,669,178', '$1,669,178', '$1,669,178', '$1,669,178', '$1,669,178', '$1,669,178', '$1,669,178', '$1,517,981', '$1,517,981', '$1,517,981', '$1,517,981', '$1,517,981', '$1,517,981', '$1,517,981', '$1,517,981', '$1,517,981', '$1,517,981', '$1,517,981', '$1,517,981', '$1,517,981', '$1,517,981', '$1,517,981', '$1,517,981', '$1,517,981', '$1,517,981', '$1,517,981', '$1,517,981', '$1,500,000', '$1,489,065', '$1,489,065', '$1,489,065', '$1,456,667', '$1,250,000', '$1,242,340', '$1,068,200', '$1,062,303', '$1,057,260', '$1,039,080', '$999,200', '$925,258', '$925,258', '$925,258', '$925,258', '$925,258', '$925,258', '$925,258', '$925,258', '$925,258', '$925,258', '$925,258', '$925,258', '$925,258', '$737,067', '$709,913', '$666,666', '$462,629', '$462,629', '$462,629', '$462,629', '$462,629', '$462,629', '$462,629', '$462,629', '$462,629', '$462,629', '$462,629', '$462,629', '$462,629', '$462,629', '$462,629', '$462,629', '$462,629', '$462,629', '$462,629', '$462,629', '$462,629', '$462,629', '$462,629', '$462,629', '$462,629', '$462,629', '$462,629', '$462,629', '$462,629', '$462,629', '$462,629', '$462,629', '$462,629', '$462,629', '$462,629', '$462,629', '$462,629', '$462,629', '$462,629', '$462,629', '$462,629', '$462,629', '$462,629', '$462,629', '$462,629', '$462,629', '$462,629', '$462,629', '$462,629', '$462,629', '$462,629', '$462,629', '$462,629', '$462,629', '$462,629', '$449,155', '$392,674', '$350,000', '$300,000', '$300,000', '$122,741', '$100,000', '$92,857', '$50,000']\n"
     ]
    }
   ],
   "source": [
    "salaries = driver.find_elements_by_xpath('//td[@class=\"hh-salaries-sorted\"]')\n",
    "salaries_list = []\n",
    "for s in range(len(salaries)):\n",
    "    salaries_list.append(salaries[s].text)\n",
    "print(salaries_list)    "
   ]
  },
  {
   "cell_type": "code",
   "execution_count": 7,
   "metadata": {},
   "outputs": [],
   "source": [
    "df = pd.DataFrame(columns=['Player','Salary','Year'])\n",
    "\n",
    "for yr in range(2015,2021):\n",
    "    page_num = str(yr) + '-' + str(yr+1) +'/'\n",
    "    url = 'https://hoopshype.com/salaries/players/' + page_num\n",
    "    driver.get(url)\n",
    "    \n",
    "    players = driver.find_elements_by_xpath('//td[@class=\"name\"]')\n",
    "    salaries = driver.find_elements_by_xpath('//td[@class=\"hh-salaries-sorted\"]') \n",
    "    \n",
    "    players_list = []\n",
    "    for p in range(len(players)):\n",
    "        players_list.append(players[p].text)\n",
    "    \n",
    "    salaries_list = []\n",
    "    for s in range(len(salaries)):\n",
    "        salaries_list.append(salaries[s].text)\n",
    "    \n",
    "    data_tuples = list(zip(players_list[1:],salaries_list[1:])) # list of each players name and salary paired together\n",
    "    temp_df = pd.DataFrame(data_tuples, columns=['Player','Salary']) # creates dataframe of each tuple in list\n",
    "    temp_df['Year'] = yr # adds season beginning year to each dataframe\n",
    "    df = df.append(temp_df) # appends to master dataframe\n",
    "    \n",
    "driver.close()"
   ]
  },
  {
   "cell_type": "code",
   "execution_count": 8,
   "metadata": {},
   "outputs": [
    {
     "data": {
      "text/html": [
       "<div>\n",
       "<style scoped>\n",
       "    .dataframe tbody tr th:only-of-type {\n",
       "        vertical-align: middle;\n",
       "    }\n",
       "\n",
       "    .dataframe tbody tr th {\n",
       "        vertical-align: top;\n",
       "    }\n",
       "\n",
       "    .dataframe thead th {\n",
       "        text-align: right;\n",
       "    }\n",
       "</style>\n",
       "<table border=\"1\" class=\"dataframe\">\n",
       "  <thead>\n",
       "    <tr style=\"text-align: right;\">\n",
       "      <th></th>\n",
       "      <th>Player</th>\n",
       "      <th>Salary</th>\n",
       "      <th>Year</th>\n",
       "    </tr>\n",
       "  </thead>\n",
       "  <tbody>\n",
       "    <tr>\n",
       "      <th>0</th>\n",
       "      <td>Kobe Bryant</td>\n",
       "      <td>$25,000,000</td>\n",
       "      <td>2015</td>\n",
       "    </tr>\n",
       "    <tr>\n",
       "      <th>1</th>\n",
       "      <td>LeBron James</td>\n",
       "      <td>$22,970,500</td>\n",
       "      <td>2015</td>\n",
       "    </tr>\n",
       "    <tr>\n",
       "      <th>2</th>\n",
       "      <td>Carmelo Anthony</td>\n",
       "      <td>$22,875,000</td>\n",
       "      <td>2015</td>\n",
       "    </tr>\n",
       "    <tr>\n",
       "      <th>3</th>\n",
       "      <td>Dwight Howard</td>\n",
       "      <td>$22,359,364</td>\n",
       "      <td>2015</td>\n",
       "    </tr>\n",
       "    <tr>\n",
       "      <th>4</th>\n",
       "      <td>Joe Johnson</td>\n",
       "      <td>$22,309,344</td>\n",
       "      <td>2015</td>\n",
       "    </tr>\n",
       "  </tbody>\n",
       "</table>\n",
       "</div>"
      ],
      "text/plain": [
       "            Player       Salary  Year\n",
       "0      Kobe Bryant  $25,000,000  2015\n",
       "1     LeBron James  $22,970,500  2015\n",
       "2  Carmelo Anthony  $22,875,000  2015\n",
       "3    Dwight Howard  $22,359,364  2015\n",
       "4      Joe Johnson  $22,309,344  2015"
      ]
     },
     "execution_count": 8,
     "metadata": {},
     "output_type": "execute_result"
    }
   ],
   "source": [
    "df.head()"
   ]
  },
  {
   "cell_type": "code",
   "execution_count": 9,
   "metadata": {},
   "outputs": [
    {
     "data": {
      "text/plain": [
       "<bound method DataFrame.info of               Player       Salary  Year\n",
       "0        Kobe Bryant  $25,000,000  2015\n",
       "1       LeBron James  $22,970,500  2015\n",
       "2    Carmelo Anthony  $22,875,000  2015\n",
       "3      Dwight Howard  $22,359,364  2015\n",
       "4        Joe Johnson  $22,309,344  2015\n",
       "..               ...          ...   ...\n",
       "573     Cam Reynolds      $33,299  2020\n",
       "574       Tyler Hall      $25,000  2020\n",
       "575     Andrew White      $25,000  2020\n",
       "576    Elijah Bryant      $24,611  2020\n",
       "577   Caleb Homesley      $20,000  2020\n",
       "\n",
       "[3298 rows x 3 columns]>"
      ]
     },
     "execution_count": 9,
     "metadata": {},
     "output_type": "execute_result"
    }
   ],
   "source": [
    "df.info"
   ]
  },
  {
   "cell_type": "code",
   "execution_count": 10,
   "metadata": {},
   "outputs": [],
   "source": [
    "df.to_csv(\"players_names_and_salaries.csv\", header=True, index=False)"
   ]
  },
  {
   "cell_type": "code",
   "execution_count": 11,
   "metadata": {},
   "outputs": [
    {
     "data": {
      "text/html": [
       "<div>\n",
       "<style scoped>\n",
       "    .dataframe tbody tr th:only-of-type {\n",
       "        vertical-align: middle;\n",
       "    }\n",
       "\n",
       "    .dataframe tbody tr th {\n",
       "        vertical-align: top;\n",
       "    }\n",
       "\n",
       "    .dataframe thead th {\n",
       "        text-align: right;\n",
       "    }\n",
       "</style>\n",
       "<table border=\"1\" class=\"dataframe\">\n",
       "  <thead>\n",
       "    <tr style=\"text-align: right;\">\n",
       "      <th></th>\n",
       "      <th>Player</th>\n",
       "      <th>Salary</th>\n",
       "      <th>Year</th>\n",
       "    </tr>\n",
       "  </thead>\n",
       "  <tbody>\n",
       "    <tr>\n",
       "      <th>0</th>\n",
       "      <td>Kobe Bryant</td>\n",
       "      <td>25000000</td>\n",
       "      <td>2015</td>\n",
       "    </tr>\n",
       "    <tr>\n",
       "      <th>1</th>\n",
       "      <td>LeBron James</td>\n",
       "      <td>22970500</td>\n",
       "      <td>2015</td>\n",
       "    </tr>\n",
       "    <tr>\n",
       "      <th>2</th>\n",
       "      <td>Carmelo Anthony</td>\n",
       "      <td>22875000</td>\n",
       "      <td>2015</td>\n",
       "    </tr>\n",
       "    <tr>\n",
       "      <th>3</th>\n",
       "      <td>Dwight Howard</td>\n",
       "      <td>22359364</td>\n",
       "      <td>2015</td>\n",
       "    </tr>\n",
       "    <tr>\n",
       "      <th>4</th>\n",
       "      <td>Joe Johnson</td>\n",
       "      <td>22309344</td>\n",
       "      <td>2015</td>\n",
       "    </tr>\n",
       "  </tbody>\n",
       "</table>\n",
       "</div>"
      ],
      "text/plain": [
       "            Player    Salary  Year\n",
       "0      Kobe Bryant  25000000  2015\n",
       "1     LeBron James  22970500  2015\n",
       "2  Carmelo Anthony  22875000  2015\n",
       "3    Dwight Howard  22359364  2015\n",
       "4      Joe Johnson  22309344  2015"
      ]
     },
     "execution_count": 11,
     "metadata": {},
     "output_type": "execute_result"
    }
   ],
   "source": [
    "df['Salary'] = df['Salary'].str.replace(',', '')\n",
    "df['Salary'] = df['Salary'].str.replace('$', '')\n",
    "df.head()"
   ]
  },
  {
   "cell_type": "code",
   "execution_count": 12,
   "metadata": {},
   "outputs": [],
   "source": [
    "df.to_csv(\"players_names_and_salaries.csv\", header=True, index=False)"
   ]
  },
  {
   "cell_type": "code",
   "execution_count": null,
   "metadata": {},
   "outputs": [],
   "source": []
  }
 ],
 "metadata": {
  "kernelspec": {
   "display_name": "Python 3",
   "language": "python",
   "name": "python3"
  },
  "language_info": {
   "codemirror_mode": {
    "name": "ipython",
    "version": 3
   },
   "file_extension": ".py",
   "mimetype": "text/x-python",
   "name": "python",
   "nbconvert_exporter": "python",
   "pygments_lexer": "ipython3",
   "version": "3.8.5"
  }
 },
 "nbformat": 4,
 "nbformat_minor": 4
}
